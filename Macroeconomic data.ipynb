{
 "cells": [
  {
   "cell_type": "markdown",
   "id": "03a2815f",
   "metadata": {},
   "source": [
    "# 1.2 Macroeconomic data\n",
    "\n",
    "## 1.2.1 Exchange rate CAD/USD\n",
    "\n",
    "The data was downloaded from https://fred.stlouisfed.org/. \n",
    "The purpose of this exercise is to test for normality of the exchange rate time series. Then to test the random walk hypothesis using: autocorrelation coefficients test, Portmanteau test, variance ratios and the unit root test Augmented Dickey-Fuller (ADF). For ADF, we need to consider test levels of 1%, 5% and 10%.\n",
    "\n",
    "### Step 1: Data Loading and Pre-Processing"
   ]
  },
  {
   "cell_type": "code",
   "execution_count": 1,
   "id": "2837f316",
   "metadata": {},
   "outputs": [],
   "source": [
    "import numpy as np\n",
    "import pandas as pd\n",
    "import matplotlib.pyplot as plt\n",
    "import seaborn as sns\n",
    "import warnings\n",
    "import statsmodels.api as sm\n",
    "warnings.filterwarnings(\"ignore\")\n",
    "%matplotlib inline"
   ]
  },
  {
   "cell_type": "code",
   "execution_count": 2,
   "id": "e29a14d5",
   "metadata": {},
   "outputs": [
    {
     "data": {
      "text/html": [
       "<div>\n",
       "<style scoped>\n",
       "    .dataframe tbody tr th:only-of-type {\n",
       "        vertical-align: middle;\n",
       "    }\n",
       "\n",
       "    .dataframe tbody tr th {\n",
       "        vertical-align: top;\n",
       "    }\n",
       "\n",
       "    .dataframe thead th {\n",
       "        text-align: right;\n",
       "    }\n",
       "</style>\n",
       "<table border=\"1\" class=\"dataframe\">\n",
       "  <thead>\n",
       "    <tr style=\"text-align: right;\">\n",
       "      <th></th>\n",
       "      <th>Exchange Rate</th>\n",
       "    </tr>\n",
       "    <tr>\n",
       "      <th>DATE</th>\n",
       "      <th></th>\n",
       "    </tr>\n",
       "  </thead>\n",
       "  <tbody>\n",
       "    <tr>\n",
       "      <th>1971-01-04</th>\n",
       "      <td>1.0109</td>\n",
       "    </tr>\n",
       "    <tr>\n",
       "      <th>1971-01-05</th>\n",
       "      <td>1.0102</td>\n",
       "    </tr>\n",
       "    <tr>\n",
       "      <th>1971-01-06</th>\n",
       "      <td>1.0106</td>\n",
       "    </tr>\n",
       "    <tr>\n",
       "      <th>1971-01-07</th>\n",
       "      <td>1.0148</td>\n",
       "    </tr>\n",
       "    <tr>\n",
       "      <th>1971-01-08</th>\n",
       "      <td>1.0154</td>\n",
       "    </tr>\n",
       "    <tr>\n",
       "      <th>...</th>\n",
       "      <td>...</td>\n",
       "    </tr>\n",
       "    <tr>\n",
       "      <th>2021-09-06</th>\n",
       "      <td>.</td>\n",
       "    </tr>\n",
       "    <tr>\n",
       "      <th>2021-09-07</th>\n",
       "      <td>1.2622</td>\n",
       "    </tr>\n",
       "    <tr>\n",
       "      <th>2021-09-08</th>\n",
       "      <td>1.2681</td>\n",
       "    </tr>\n",
       "    <tr>\n",
       "      <th>2021-09-09</th>\n",
       "      <td>1.2648</td>\n",
       "    </tr>\n",
       "    <tr>\n",
       "      <th>2021-09-10</th>\n",
       "      <td>1.2636</td>\n",
       "    </tr>\n",
       "  </tbody>\n",
       "</table>\n",
       "<p>13225 rows × 1 columns</p>\n",
       "</div>"
      ],
      "text/plain": [
       "           Exchange Rate\n",
       "DATE                    \n",
       "1971-01-04        1.0109\n",
       "1971-01-05        1.0102\n",
       "1971-01-06        1.0106\n",
       "1971-01-07        1.0148\n",
       "1971-01-08        1.0154\n",
       "...                  ...\n",
       "2021-09-06             .\n",
       "2021-09-07        1.2622\n",
       "2021-09-08        1.2681\n",
       "2021-09-09        1.2648\n",
       "2021-09-10        1.2636\n",
       "\n",
       "[13225 rows x 1 columns]"
      ]
     },
     "execution_count": 2,
     "metadata": {},
     "output_type": "execute_result"
    }
   ],
   "source": [
    "#read the data and set the DATE column as index\n",
    "exchange_rate = pd.read_csv(\"DEXCAUS.csv\",parse_dates=[\"DATE\"])\n",
    "exchange_rate.DATE = pd.to_datetime(exchange_rate.DATE)\n",
    "exchange_rate.set_index(\"DATE\",inplace=True)\n",
    "exchange_rate = exchange_rate.rename(columns={\"DEXCAUS\":\"Exchange Rate\"})\n",
    "exchange_rate"
   ]
  },
  {
   "cell_type": "code",
   "execution_count": 3,
   "id": "8e491f4e",
   "metadata": {},
   "outputs": [
    {
     "name": "stdout",
     "output_type": "stream",
     "text": [
      "<class 'pandas.core.frame.DataFrame'>\n",
      "DatetimeIndex: 13225 entries, 1971-01-04 to 2021-09-10\n",
      "Data columns (total 1 columns):\n",
      " #   Column         Non-Null Count  Dtype \n",
      "---  ------         --------------  ----- \n",
      " 0   Exchange Rate  13225 non-null  object\n",
      "dtypes: object(1)\n",
      "memory usage: 206.6+ KB\n"
     ]
    }
   ],
   "source": [
    "exchange_rate.info()"
   ]
  },
  {
   "cell_type": "markdown",
   "id": "22e20fab",
   "metadata": {},
   "source": [
    "By examining the data, we noticed that the Exchange Rate column's data type is object, thus the first step is to convert the object type to numeric type. Prior to complete this task, we also noticed that some row values were filled with only a dot. In this regard, it is also necessary to remove these missing values."
   ]
  },
  {
   "cell_type": "code",
   "execution_count": 4,
   "id": "a5db0291",
   "metadata": {},
   "outputs": [
    {
     "data": {
      "text/html": [
       "<div>\n",
       "<style scoped>\n",
       "    .dataframe tbody tr th:only-of-type {\n",
       "        vertical-align: middle;\n",
       "    }\n",
       "\n",
       "    .dataframe tbody tr th {\n",
       "        vertical-align: top;\n",
       "    }\n",
       "\n",
       "    .dataframe thead th {\n",
       "        text-align: right;\n",
       "    }\n",
       "</style>\n",
       "<table border=\"1\" class=\"dataframe\">\n",
       "  <thead>\n",
       "    <tr style=\"text-align: right;\">\n",
       "      <th></th>\n",
       "      <th>Exchange Rate</th>\n",
       "    </tr>\n",
       "    <tr>\n",
       "      <th>DATE</th>\n",
       "      <th></th>\n",
       "    </tr>\n",
       "  </thead>\n",
       "  <tbody>\n",
       "    <tr>\n",
       "      <th>1971-01-04</th>\n",
       "      <td>1.0109</td>\n",
       "    </tr>\n",
       "    <tr>\n",
       "      <th>1971-01-05</th>\n",
       "      <td>1.0102</td>\n",
       "    </tr>\n",
       "    <tr>\n",
       "      <th>1971-01-06</th>\n",
       "      <td>1.0106</td>\n",
       "    </tr>\n",
       "    <tr>\n",
       "      <th>1971-01-07</th>\n",
       "      <td>1.0148</td>\n",
       "    </tr>\n",
       "    <tr>\n",
       "      <th>1971-01-08</th>\n",
       "      <td>1.0154</td>\n",
       "    </tr>\n",
       "    <tr>\n",
       "      <th>...</th>\n",
       "      <td>...</td>\n",
       "    </tr>\n",
       "    <tr>\n",
       "      <th>2021-09-03</th>\n",
       "      <td>1.2524</td>\n",
       "    </tr>\n",
       "    <tr>\n",
       "      <th>2021-09-07</th>\n",
       "      <td>1.2622</td>\n",
       "    </tr>\n",
       "    <tr>\n",
       "      <th>2021-09-08</th>\n",
       "      <td>1.2681</td>\n",
       "    </tr>\n",
       "    <tr>\n",
       "      <th>2021-09-09</th>\n",
       "      <td>1.2648</td>\n",
       "    </tr>\n",
       "    <tr>\n",
       "      <th>2021-09-10</th>\n",
       "      <td>1.2636</td>\n",
       "    </tr>\n",
       "  </tbody>\n",
       "</table>\n",
       "<p>12722 rows × 1 columns</p>\n",
       "</div>"
      ],
      "text/plain": [
       "           Exchange Rate\n",
       "DATE                    \n",
       "1971-01-04        1.0109\n",
       "1971-01-05        1.0102\n",
       "1971-01-06        1.0106\n",
       "1971-01-07        1.0148\n",
       "1971-01-08        1.0154\n",
       "...                  ...\n",
       "2021-09-03        1.2524\n",
       "2021-09-07        1.2622\n",
       "2021-09-08        1.2681\n",
       "2021-09-09        1.2648\n",
       "2021-09-10        1.2636\n",
       "\n",
       "[12722 rows x 1 columns]"
      ]
     },
     "execution_count": 4,
     "metadata": {},
     "output_type": "execute_result"
    }
   ],
   "source": [
    "#remove the row values of dot\n",
    "numeric = exchange_rate[\"Exchange Rate\"] != \".\"\n",
    "exchange_rate = exchange_rate[numeric]\n",
    "exchange_rate"
   ]
  },
  {
   "cell_type": "code",
   "execution_count": 5,
   "id": "e743c33f",
   "metadata": {},
   "outputs": [
    {
     "data": {
      "text/html": [
       "<div>\n",
       "<style scoped>\n",
       "    .dataframe tbody tr th:only-of-type {\n",
       "        vertical-align: middle;\n",
       "    }\n",
       "\n",
       "    .dataframe tbody tr th {\n",
       "        vertical-align: top;\n",
       "    }\n",
       "\n",
       "    .dataframe thead th {\n",
       "        text-align: right;\n",
       "    }\n",
       "</style>\n",
       "<table border=\"1\" class=\"dataframe\">\n",
       "  <thead>\n",
       "    <tr style=\"text-align: right;\">\n",
       "      <th></th>\n",
       "      <th>Exchange Rate</th>\n",
       "    </tr>\n",
       "    <tr>\n",
       "      <th>DATE</th>\n",
       "      <th></th>\n",
       "    </tr>\n",
       "  </thead>\n",
       "  <tbody>\n",
       "    <tr>\n",
       "      <th>1971-01-04</th>\n",
       "      <td>1.0109</td>\n",
       "    </tr>\n",
       "    <tr>\n",
       "      <th>1971-01-05</th>\n",
       "      <td>1.0102</td>\n",
       "    </tr>\n",
       "    <tr>\n",
       "      <th>1971-01-06</th>\n",
       "      <td>1.0106</td>\n",
       "    </tr>\n",
       "    <tr>\n",
       "      <th>1971-01-07</th>\n",
       "      <td>1.0148</td>\n",
       "    </tr>\n",
       "    <tr>\n",
       "      <th>1971-01-08</th>\n",
       "      <td>1.0154</td>\n",
       "    </tr>\n",
       "    <tr>\n",
       "      <th>...</th>\n",
       "      <td>...</td>\n",
       "    </tr>\n",
       "    <tr>\n",
       "      <th>2021-09-03</th>\n",
       "      <td>1.2524</td>\n",
       "    </tr>\n",
       "    <tr>\n",
       "      <th>2021-09-07</th>\n",
       "      <td>1.2622</td>\n",
       "    </tr>\n",
       "    <tr>\n",
       "      <th>2021-09-08</th>\n",
       "      <td>1.2681</td>\n",
       "    </tr>\n",
       "    <tr>\n",
       "      <th>2021-09-09</th>\n",
       "      <td>1.2648</td>\n",
       "    </tr>\n",
       "    <tr>\n",
       "      <th>2021-09-10</th>\n",
       "      <td>1.2636</td>\n",
       "    </tr>\n",
       "  </tbody>\n",
       "</table>\n",
       "<p>12722 rows × 1 columns</p>\n",
       "</div>"
      ],
      "text/plain": [
       "            Exchange Rate\n",
       "DATE                     \n",
       "1971-01-04         1.0109\n",
       "1971-01-05         1.0102\n",
       "1971-01-06         1.0106\n",
       "1971-01-07         1.0148\n",
       "1971-01-08         1.0154\n",
       "...                   ...\n",
       "2021-09-03         1.2524\n",
       "2021-09-07         1.2622\n",
       "2021-09-08         1.2681\n",
       "2021-09-09         1.2648\n",
       "2021-09-10         1.2636\n",
       "\n",
       "[12722 rows x 1 columns]"
      ]
     },
     "execution_count": 5,
     "metadata": {},
     "output_type": "execute_result"
    }
   ],
   "source": [
    "#convert the datatype from object to numeric\n",
    "exchange_rate[\"Exchange Rate\"] = pd.to_numeric(exchange_rate[\"Exchange Rate\"])\n",
    "exchange_rate"
   ]
  },
  {
   "cell_type": "code",
   "execution_count": 6,
   "id": "ca859141",
   "metadata": {},
   "outputs": [
    {
     "name": "stdout",
     "output_type": "stream",
     "text": [
      "<class 'pandas.core.frame.DataFrame'>\n",
      "DatetimeIndex: 12722 entries, 1971-01-04 to 2021-09-10\n",
      "Data columns (total 1 columns):\n",
      " #   Column         Non-Null Count  Dtype  \n",
      "---  ------         --------------  -----  \n",
      " 0   Exchange Rate  12722 non-null  float64\n",
      "dtypes: float64(1)\n",
      "memory usage: 198.8 KB\n"
     ]
    }
   ],
   "source": [
    "exchange_rate.info()"
   ]
  },
  {
   "cell_type": "code",
   "execution_count": 7,
   "id": "c5e8e54c",
   "metadata": {},
   "outputs": [
    {
     "data": {
      "image/png": "[encoded data removed]",
      "text/plain": [
       "<Figure size 864x360 with 1 Axes>"
      ]
     },
     "metadata": {
      "needs_background": "light"
     },
     "output_type": "display_data"
    }
   ],
   "source": [
    "#plot the data\n",
    "import matplotlib as mpl\n",
    "import matplotlib.pyplot as plt\n",
    "plt.style.use('seaborn')\n",
    "#mpl.rcParams['font.family'] = 'serif'\n",
    "%matplotlib inline\n",
    "exchange_rate.plot(figsize=(12,5));\n",
    "plt.title(\"CAD/USD Exchange Rate\",fontsize=16)\n",
    "plt.xlabel(\"Date\",fontsize=16)\n",
    "plt.tight_layout();"
   ]
  },
  {
   "cell_type": "markdown",
   "id": "b14f9683",
   "metadata": {},
   "source": [
    "After the data cleaning step, we calculated the difference of logs. Although the exchange rate value was not completely continous, given the variation over the segment of missing value days are not that significant, we still use the common method to calculate the log returns, which is the following equation:\n",
    "\n",
    "* Simple net return:\n",
    "\\begin{align}\n",
    "R_t=\\frac{P_t}{P_t-1}-1\n",
    "\\end{align}\n",
    "\n",
    "* Log Returns:\n",
    "\\begin{align}\n",
    "r_t=log(1+R_t)\n",
    "\\end{align}"
   ]
  },
  {
   "cell_type": "code",
   "execution_count": 8,
   "id": "a4623105",
   "metadata": {},
   "outputs": [
    {
     "data": {
      "text/html": [
       "<div>\n",
       "<style scoped>\n",
       "    .dataframe tbody tr th:only-of-type {\n",
       "        vertical-align: middle;\n",
       "    }\n",
       "\n",
       "    .dataframe tbody tr th {\n",
       "        vertical-align: top;\n",
       "    }\n",
       "\n",
       "    .dataframe thead th {\n",
       "        text-align: right;\n",
       "    }\n",
       "</style>\n",
       "<table border=\"1\" class=\"dataframe\">\n",
       "  <thead>\n",
       "    <tr style=\"text-align: right;\">\n",
       "      <th></th>\n",
       "      <th>Simple Net Return</th>\n",
       "      <th>Log Returns</th>\n",
       "    </tr>\n",
       "    <tr>\n",
       "      <th>DATE</th>\n",
       "      <th></th>\n",
       "      <th></th>\n",
       "    </tr>\n",
       "  </thead>\n",
       "  <tbody>\n",
       "    <tr>\n",
       "      <th>1971-01-04</th>\n",
       "      <td>NaN</td>\n",
       "      <td>NaN</td>\n",
       "    </tr>\n",
       "    <tr>\n",
       "      <th>1971-01-05</th>\n",
       "      <td>-0.000692</td>\n",
       "      <td>-0.000693</td>\n",
       "    </tr>\n",
       "    <tr>\n",
       "      <th>1971-01-06</th>\n",
       "      <td>0.000396</td>\n",
       "      <td>0.000396</td>\n",
       "    </tr>\n",
       "    <tr>\n",
       "      <th>1971-01-07</th>\n",
       "      <td>0.004156</td>\n",
       "      <td>0.004147</td>\n",
       "    </tr>\n",
       "    <tr>\n",
       "      <th>1971-01-08</th>\n",
       "      <td>0.000591</td>\n",
       "      <td>0.000591</td>\n",
       "    </tr>\n",
       "    <tr>\n",
       "      <th>...</th>\n",
       "      <td>...</td>\n",
       "      <td>...</td>\n",
       "    </tr>\n",
       "    <tr>\n",
       "      <th>2021-09-03</th>\n",
       "      <td>-0.002787</td>\n",
       "      <td>-0.002791</td>\n",
       "    </tr>\n",
       "    <tr>\n",
       "      <th>2021-09-07</th>\n",
       "      <td>0.007825</td>\n",
       "      <td>0.007795</td>\n",
       "    </tr>\n",
       "    <tr>\n",
       "      <th>2021-09-08</th>\n",
       "      <td>0.004674</td>\n",
       "      <td>0.004663</td>\n",
       "    </tr>\n",
       "    <tr>\n",
       "      <th>2021-09-09</th>\n",
       "      <td>-0.002602</td>\n",
       "      <td>-0.002606</td>\n",
       "    </tr>\n",
       "    <tr>\n",
       "      <th>2021-09-10</th>\n",
       "      <td>-0.000949</td>\n",
       "      <td>-0.000949</td>\n",
       "    </tr>\n",
       "  </tbody>\n",
       "</table>\n",
       "<p>12722 rows × 2 columns</p>\n",
       "</div>"
      ],
      "text/plain": [
       "            Simple Net Return  Log Returns\n",
       "DATE                                      \n",
       "1971-01-04                NaN          NaN\n",
       "1971-01-05          -0.000692    -0.000693\n",
       "1971-01-06           0.000396     0.000396\n",
       "1971-01-07           0.004156     0.004147\n",
       "1971-01-08           0.000591     0.000591\n",
       "...                       ...          ...\n",
       "2021-09-03          -0.002787    -0.002791\n",
       "2021-09-07           0.007825     0.007795\n",
       "2021-09-08           0.004674     0.004663\n",
       "2021-09-09          -0.002602    -0.002606\n",
       "2021-09-10          -0.000949    -0.000949\n",
       "\n",
       "[12722 rows x 2 columns]"
      ]
     },
     "execution_count": 8,
     "metadata": {},
     "output_type": "execute_result"
    }
   ],
   "source": [
    "return_data = exchange_rate.pct_change()\n",
    "return_data = return_data.rename(columns={\"Exchange Rate\":\"Simple Net Return\"})\n",
    "return_data[\"Log Returns\"] = np.log(return_data[\"Simple Net Return\"] + 1)\n",
    "return_data"
   ]
  },
  {
   "cell_type": "code",
   "execution_count": 9,
   "id": "ac458f1d",
   "metadata": {},
   "outputs": [
    {
     "data": {
      "image/png": "[encoded data removed]",
      "text/plain": [
       "<Figure size 864x360 with 1 Axes>"
      ]
     },
     "metadata": {
      "needs_background": "light"
     },
     "output_type": "display_data"
    }
   ],
   "source": [
    "# plot the return series\n",
    "ax = return_data[\"Log Returns\"][1:].plot(figsize=(12,5),fontsize=12,linewidth=1)\n",
    "ax.set_xlabel('Date', fontsize=16)\n",
    "ax.set_ylabel('Log Return', fontsize=16)\n",
    "ax.set_title('Exchange rate CAD/USD Log Return', fontsize=16);"
   ]
  },
  {
   "cell_type": "markdown",
   "id": "9fc5d69b",
   "metadata": {},
   "source": [
    "### Step 2: Test for normality"
   ]
  },
  {
   "cell_type": "code",
   "execution_count": 10,
   "id": "6d5eaa19",
   "metadata": {},
   "outputs": [
    {
     "data": {
      "image/png": "[encoded data removed]",
      "text/plain": [
       "<Figure size 432x288 with 1 Axes>"
      ]
     },
     "metadata": {
      "needs_background": "light"
     },
     "output_type": "display_data"
    }
   ],
   "source": [
    "# plot the distribution and kde estimate of the exchange rate return series\n",
    "sns.distplot(return_data[\"Log Returns\"][1:]);"
   ]
  },
  {
   "cell_type": "code",
   "execution_count": 11,
   "id": "b95494cb",
   "metadata": {
    "scrolled": true
   },
   "outputs": [
    {
     "data": {
      "image/png": "[encoded data removed]",
      "text/plain": [
       "<Figure size 432x288 with 1 Axes>"
      ]
     },
     "metadata": {
      "needs_background": "light"
     },
     "output_type": "display_data"
    }
   ],
   "source": [
    "# QQ plot of the exchange rate return series\n",
    "fig = sm.qqplot(return_data[\"Log Returns\"][1:]);\n",
    "plt.show();"
   ]
  },
  {
   "cell_type": "markdown",
   "id": "63892c83",
   "metadata": {},
   "source": [
    "#### 1. Jarque-Bera test"
   ]
  },
  {
   "cell_type": "code",
   "execution_count": 12,
   "id": "c3322e21",
   "metadata": {},
   "outputs": [
    {
     "data": {
      "text/plain": [
       "Jarque_beraResult(statistic=51799.88762652437, pvalue=0.0)"
      ]
     },
     "execution_count": 12,
     "metadata": {},
     "output_type": "execute_result"
    }
   ],
   "source": [
    "from scipy import stats\n",
    "jarque_bera_test = stats.jarque_bera(return_data[\"Log Returns\"][1:])\n",
    "jarque_bera_test"
   ]
  },
  {
   "cell_type": "markdown",
   "id": "cd5e612e",
   "metadata": {},
   "source": [
    "The Jarque-Bera test results (i.e., small p-value) indicated that we should reject the null hypothesis that the CPI log return time series has the skewness and kurtosis matching a normal distribution."
   ]
  },
  {
   "cell_type": "markdown",
   "id": "ad8320f2",
   "metadata": {},
   "source": [
    "### Step 3: Test the random walk hypothesis\n",
    "\n",
    "#### 1. Autocorrelation Coefficients test"
   ]
  },
  {
   "cell_type": "code",
   "execution_count": 13,
   "id": "a363d2cb",
   "metadata": {},
   "outputs": [],
   "source": [
    "from statsmodels.graphics.tsaplots import plot_acf, plot_pacf"
   ]
  },
  {
   "cell_type": "code",
   "execution_count": 14,
   "id": "0371c1fa",
   "metadata": {},
   "outputs": [
    {
     "data": {
      "image/png": "[encoded data removed]",
      "text/plain": [
       "<Figure size 432x288 with 1 Axes>"
      ]
     },
     "metadata": {
      "needs_background": "light"
     },
     "output_type": "display_data"
    }
   ],
   "source": [
    "plot_acf(return_data['Log Returns'][1:], alpha=0.05, lags=20)\n",
    "plt.show()"
   ]
  },
  {
   "cell_type": "markdown",
   "id": "1fca3288",
   "metadata": {},
   "source": [
    "Because the autocorrelation coefficients of the exchange rate return series are not significant, thus, we don't have strong evidence to reject the hypothesis that the CAD/USD exchange rate time series is a random walk (i.e., under the null hypothesis of random walk for the exchange rate time sereis, the serial correlation of the return series are not significant, and this is the case here).\n",
    "\n",
    "#### 2. Portmanteau test"
   ]
  },
  {
   "cell_type": "markdown",
   "id": "2c5bba09",
   "metadata": {},
   "source": [
    "In time series analysis, one well-known version of a portmanteau test is available for testing for autocorrelation in the residuals of a model: it tests whether any of a group of autocorrelations of the residual time series are different from zero. This test is the Ljung-Box test."
   ]
  },
  {
   "cell_type": "code",
   "execution_count": 15,
   "id": "91c5b895",
   "metadata": {
    "scrolled": true
   },
   "outputs": [
    {
     "data": {
      "text/html": [
       "<div>\n",
       "<style scoped>\n",
       "    .dataframe tbody tr th:only-of-type {\n",
       "        vertical-align: middle;\n",
       "    }\n",
       "\n",
       "    .dataframe tbody tr th {\n",
       "        vertical-align: top;\n",
       "    }\n",
       "\n",
       "    .dataframe thead th {\n",
       "        text-align: right;\n",
       "    }\n",
       "</style>\n",
       "<table border=\"1\" class=\"dataframe\">\n",
       "  <thead>\n",
       "    <tr style=\"text-align: right;\">\n",
       "      <th></th>\n",
       "      <th>lb_stat</th>\n",
       "      <th>lb_pvalue</th>\n",
       "    </tr>\n",
       "  </thead>\n",
       "  <tbody>\n",
       "    <tr>\n",
       "      <th>1</th>\n",
       "      <td>1.668848</td>\n",
       "      <td>0.196413</td>\n",
       "    </tr>\n",
       "    <tr>\n",
       "      <th>2</th>\n",
       "      <td>1.762526</td>\n",
       "      <td>0.414259</td>\n",
       "    </tr>\n",
       "    <tr>\n",
       "      <th>3</th>\n",
       "      <td>5.485129</td>\n",
       "      <td>0.139531</td>\n",
       "    </tr>\n",
       "    <tr>\n",
       "      <th>4</th>\n",
       "      <td>6.785206</td>\n",
       "      <td>0.147684</td>\n",
       "    </tr>\n",
       "    <tr>\n",
       "      <th>5</th>\n",
       "      <td>16.354545</td>\n",
       "      <td>0.005901</td>\n",
       "    </tr>\n",
       "    <tr>\n",
       "      <th>6</th>\n",
       "      <td>16.543060</td>\n",
       "      <td>0.011118</td>\n",
       "    </tr>\n",
       "    <tr>\n",
       "      <th>7</th>\n",
       "      <td>16.817034</td>\n",
       "      <td>0.018615</td>\n",
       "    </tr>\n",
       "    <tr>\n",
       "      <th>8</th>\n",
       "      <td>17.538966</td>\n",
       "      <td>0.024961</td>\n",
       "    </tr>\n",
       "    <tr>\n",
       "      <th>9</th>\n",
       "      <td>21.166147</td>\n",
       "      <td>0.011933</td>\n",
       "    </tr>\n",
       "    <tr>\n",
       "      <th>10</th>\n",
       "      <td>22.862379</td>\n",
       "      <td>0.011266</td>\n",
       "    </tr>\n",
       "    <tr>\n",
       "      <th>11</th>\n",
       "      <td>23.960745</td>\n",
       "      <td>0.012900</td>\n",
       "    </tr>\n",
       "    <tr>\n",
       "      <th>12</th>\n",
       "      <td>23.982405</td>\n",
       "      <td>0.020453</td>\n",
       "    </tr>\n",
       "    <tr>\n",
       "      <th>13</th>\n",
       "      <td>26.892488</td>\n",
       "      <td>0.012870</td>\n",
       "    </tr>\n",
       "    <tr>\n",
       "      <th>14</th>\n",
       "      <td>29.622718</td>\n",
       "      <td>0.008598</td>\n",
       "    </tr>\n",
       "    <tr>\n",
       "      <th>15</th>\n",
       "      <td>29.774329</td>\n",
       "      <td>0.012762</td>\n",
       "    </tr>\n",
       "    <tr>\n",
       "      <th>16</th>\n",
       "      <td>30.059595</td>\n",
       "      <td>0.017696</td>\n",
       "    </tr>\n",
       "    <tr>\n",
       "      <th>17</th>\n",
       "      <td>35.677621</td>\n",
       "      <td>0.005063</td>\n",
       "    </tr>\n",
       "    <tr>\n",
       "      <th>18</th>\n",
       "      <td>44.495475</td>\n",
       "      <td>0.000490</td>\n",
       "    </tr>\n",
       "    <tr>\n",
       "      <th>19</th>\n",
       "      <td>44.566117</td>\n",
       "      <td>0.000788</td>\n",
       "    </tr>\n",
       "    <tr>\n",
       "      <th>20</th>\n",
       "      <td>44.885459</td>\n",
       "      <td>0.001144</td>\n",
       "    </tr>\n",
       "  </tbody>\n",
       "</table>\n",
       "</div>"
      ],
      "text/plain": [
       "      lb_stat  lb_pvalue\n",
       "1    1.668848   0.196413\n",
       "2    1.762526   0.414259\n",
       "3    5.485129   0.139531\n",
       "4    6.785206   0.147684\n",
       "5   16.354545   0.005901\n",
       "6   16.543060   0.011118\n",
       "7   16.817034   0.018615\n",
       "8   17.538966   0.024961\n",
       "9   21.166147   0.011933\n",
       "10  22.862379   0.011266\n",
       "11  23.960745   0.012900\n",
       "12  23.982405   0.020453\n",
       "13  26.892488   0.012870\n",
       "14  29.622718   0.008598\n",
       "15  29.774329   0.012762\n",
       "16  30.059595   0.017696\n",
       "17  35.677621   0.005063\n",
       "18  44.495475   0.000490\n",
       "19  44.566117   0.000788\n",
       "20  44.885459   0.001144"
      ]
     },
     "execution_count": 15,
     "metadata": {},
     "output_type": "execute_result"
    }
   ],
   "source": [
    "from statsmodels.stats.diagnostic import acorr_ljungbox\n",
    "result = acorr_ljungbox(return_data[\"Log Returns\"][1:],lags = 20,return_df=True)\n",
    "result"
   ]
  },
  {
   "cell_type": "markdown",
   "id": "c7615305",
   "metadata": {},
   "source": [
    "The null hypothesis of the Portmanteau test is that all the autocorrelation coefficients are zero. If the return series autocorrelation is zero, the exchange rate time series is random walk. Considering a 5% confidence level, it is clear that we can not reject this null hypothesis (autocorrelation coefficients are zero) for the first 4 lags, however, starting from lag 5, we can reject the null hypothesis (autocorrelation coefficients are zero). "
   ]
  },
  {
   "cell_type": "markdown",
   "id": "11d2eb03",
   "metadata": {},
   "source": [
    "#### 3. Variance Ratio Test\n",
    "\n",
    "Variance ratio tests are not usually used as unit root tests, and are instead used for testing whether a financial return series is a pure random walk versus having some predictability."
   ]
  },
  {
   "cell_type": "code",
   "execution_count": 16,
   "id": "3d581871",
   "metadata": {},
   "outputs": [
    {
     "data": {
      "text/html": [
       "<table class=\"simpletable\">\n",
       "<caption>Variance-Ratio Test Results</caption>\n",
       "<tr>\n",
       "  <td>Test Statistic</td>   <td>-11.378</td>\n",
       "</tr>\n",
       "<tr>\n",
       "  <td>P-value</td>            <td>0.000</td>\n",
       "</tr>\n",
       "<tr>\n",
       "  <td>Lags</td>                  <td>20</td>\n",
       "</tr>\n",
       "</table><br/><br/>Computed with overlapping blocks (de-biased)"
      ],
      "text/plain": [
       "<class 'statsmodels.iolib.summary.Summary'>\n",
       "\"\"\"\n",
       "     Variance-Ratio Test Results     \n",
       "=====================================\n",
       "Test Statistic                -11.378\n",
       "P-value                         0.000\n",
       "Lags                               20\n",
       "-------------------------------------\n",
       "\n",
       "Computed with overlapping blocks (de-biased)\n",
       "\"\"\""
      ]
     },
     "execution_count": 16,
     "metadata": {},
     "output_type": "execute_result"
    }
   ],
   "source": [
    "from arch.unitroot import VarianceRatio\n",
    "\n",
    "vr = VarianceRatio(return_data[\"Log Returns\"][1:],20)\n",
    "vr.summary()"
   ]
  },
  {
   "cell_type": "markdown",
   "id": "8d9d6062",
   "metadata": {},
   "source": [
    "The variance ratio test result indicated that we should reject the null hypothesis that the exchange rate return time sereis is a pure random walk."
   ]
  },
  {
   "cell_type": "markdown",
   "id": "b49f923a",
   "metadata": {},
   "source": [
    "#### 4. Unito Root Test Augmented Dickey-Fuller (ADF) Test"
   ]
  },
  {
   "cell_type": "code",
   "execution_count": 17,
   "id": "cf983320",
   "metadata": {},
   "outputs": [
    {
     "name": "stdout",
     "output_type": "stream",
     "text": [
      "ADF Statistic: -16.829940\n",
      "p-value is 1.160131978326247e-29\n",
      "Critical Values:\n",
      "\t1%: -3.431\n",
      "\t5%: -2.862\n",
      "\t10%: -2.567\n"
     ]
    }
   ],
   "source": [
    "from statsmodels.tsa.stattools import adfuller\n",
    "results = adfuller(return_data[\"Log Returns\"][1:])\n",
    "print('ADF Statistic: %f' % results[0])\n",
    "print('p-value is', results[1])\n",
    "print('Critical Values:')\n",
    "for key, value in results[4].items():\n",
    "    print('\\t%s: %.3f' % (key,value))"
   ]
  },
  {
   "cell_type": "markdown",
   "id": "8bd7bd5c",
   "metadata": {},
   "source": [
    "Based on the result above, we can see that the ADF test statistic is smaller than all the critical values at 1%, 5% and 10% and the p-value of the test is extremely small. This suggests that we can reject the null hypothesis (there is unit root) at all these confidence levels. If the exchange rate return time series data is stationary, we can conclude that the exchange rate time series is a random walk."
   ]
  },
  {
   "cell_type": "markdown",
   "id": "d9a7bd05",
   "metadata": {},
   "source": [
    "## 1.2.2 Consumer price index\n",
    "\n",
    "The data was downloaded from https://fred.stlouisfed.org/. \n",
    "The purpose of this exercise is to test for normality of the consumer price index return time series. Then to test the random walk hypothesis using: autocorrelation coefficients test, Portmanteau test, variance ratios and the unit root test Augmented Dickey-Fuller (ADF). For ADF, wo need to consider test levels of 1%, 5% and 10%.\n",
    "\n",
    "### Step 1: Data Loading and Pre-Processing"
   ]
  },
  {
   "cell_type": "code",
   "execution_count": 18,
   "id": "31a21c40",
   "metadata": {},
   "outputs": [
    {
     "data": {
      "text/html": [
       "<div>\n",
       "<style scoped>\n",
       "    .dataframe tbody tr th:only-of-type {\n",
       "        vertical-align: middle;\n",
       "    }\n",
       "\n",
       "    .dataframe tbody tr th {\n",
       "        vertical-align: top;\n",
       "    }\n",
       "\n",
       "    .dataframe thead th {\n",
       "        text-align: right;\n",
       "    }\n",
       "</style>\n",
       "<table border=\"1\" class=\"dataframe\">\n",
       "  <thead>\n",
       "    <tr style=\"text-align: right;\">\n",
       "      <th></th>\n",
       "      <th>Consumer Price Index (monthly)</th>\n",
       "    </tr>\n",
       "    <tr>\n",
       "      <th>DATE</th>\n",
       "      <th></th>\n",
       "    </tr>\n",
       "  </thead>\n",
       "  <tbody>\n",
       "    <tr>\n",
       "      <th>1947-01-01</th>\n",
       "      <td>21.480</td>\n",
       "    </tr>\n",
       "    <tr>\n",
       "      <th>1947-02-01</th>\n",
       "      <td>21.620</td>\n",
       "    </tr>\n",
       "    <tr>\n",
       "      <th>1947-03-01</th>\n",
       "      <td>22.000</td>\n",
       "    </tr>\n",
       "    <tr>\n",
       "      <th>1947-04-01</th>\n",
       "      <td>22.000</td>\n",
       "    </tr>\n",
       "    <tr>\n",
       "      <th>1947-05-01</th>\n",
       "      <td>21.950</td>\n",
       "    </tr>\n",
       "    <tr>\n",
       "      <th>...</th>\n",
       "      <td>...</td>\n",
       "    </tr>\n",
       "    <tr>\n",
       "      <th>2021-04-01</th>\n",
       "      <td>266.832</td>\n",
       "    </tr>\n",
       "    <tr>\n",
       "      <th>2021-05-01</th>\n",
       "      <td>268.551</td>\n",
       "    </tr>\n",
       "    <tr>\n",
       "      <th>2021-06-01</th>\n",
       "      <td>270.981</td>\n",
       "    </tr>\n",
       "    <tr>\n",
       "      <th>2021-07-01</th>\n",
       "      <td>272.265</td>\n",
       "    </tr>\n",
       "    <tr>\n",
       "      <th>2021-08-01</th>\n",
       "      <td>273.012</td>\n",
       "    </tr>\n",
       "  </tbody>\n",
       "</table>\n",
       "<p>896 rows × 1 columns</p>\n",
       "</div>"
      ],
      "text/plain": [
       "            Consumer Price Index (monthly)\n",
       "DATE                                      \n",
       "1947-01-01                          21.480\n",
       "1947-02-01                          21.620\n",
       "1947-03-01                          22.000\n",
       "1947-04-01                          22.000\n",
       "1947-05-01                          21.950\n",
       "...                                    ...\n",
       "2021-04-01                         266.832\n",
       "2021-05-01                         268.551\n",
       "2021-06-01                         270.981\n",
       "2021-07-01                         272.265\n",
       "2021-08-01                         273.012\n",
       "\n",
       "[896 rows x 1 columns]"
      ]
     },
     "execution_count": 18,
     "metadata": {},
     "output_type": "execute_result"
    }
   ],
   "source": [
    "#read the data and set the DATE column as index\n",
    "CPI_data = pd.read_csv(\"CPIAUCSL.csv\",parse_dates=[\"DATE\"])\n",
    "CPI_data.DATE = pd.to_datetime(CPI_data.DATE)\n",
    "CPI_data.set_index(\"DATE\",inplace=True)\n",
    "CPI_data = CPI_data.rename(columns={\"CPIAUCSL\":\"Consumer Price Index (monthly)\"})\n",
    "CPI_data"
   ]
  },
  {
   "cell_type": "code",
   "execution_count": 19,
   "id": "d657be04",
   "metadata": {
    "scrolled": true
   },
   "outputs": [
    {
     "name": "stdout",
     "output_type": "stream",
     "text": [
      "<class 'pandas.core.frame.DataFrame'>\n",
      "DatetimeIndex: 896 entries, 1947-01-01 to 2021-08-01\n",
      "Data columns (total 1 columns):\n",
      " #   Column                          Non-Null Count  Dtype  \n",
      "---  ------                          --------------  -----  \n",
      " 0   Consumer Price Index (monthly)  896 non-null    float64\n",
      "dtypes: float64(1)\n",
      "memory usage: 14.0 KB\n"
     ]
    }
   ],
   "source": [
    "CPI_data.info()"
   ]
  },
  {
   "cell_type": "code",
   "execution_count": 20,
   "id": "d10af5b0",
   "metadata": {},
   "outputs": [
    {
     "data": {
      "image/png": "[encoded data removed]",
      "text/plain": [
       "<Figure size 864x360 with 1 Axes>"
      ]
     },
     "metadata": {},
     "output_type": "display_data"
    }
   ],
   "source": [
    "# plot the CPI raw data\n",
    "plt.style.use('ggplot')\n",
    "ax = CPI_data.plot(figsize=(12,5), fontsize=12, linewidth=3);\n",
    "ax.set_xlabel('Date', fontsize=16)\n",
    "ax.set_ylabel('Consumer Pricce Index (monthly)', fontsize=16)\n",
    "ax.set_title('Consumer Price Index Data', fontsize=16)\n",
    "plt.tight_layout();"
   ]
  },
  {
   "cell_type": "code",
   "execution_count": 21,
   "id": "5709f4e5",
   "metadata": {},
   "outputs": [
    {
     "data": {
      "text/html": [
       "<div>\n",
       "<style scoped>\n",
       "    .dataframe tbody tr th:only-of-type {\n",
       "        vertical-align: middle;\n",
       "    }\n",
       "\n",
       "    .dataframe tbody tr th {\n",
       "        vertical-align: top;\n",
       "    }\n",
       "\n",
       "    .dataframe thead th {\n",
       "        text-align: right;\n",
       "    }\n",
       "</style>\n",
       "<table border=\"1\" class=\"dataframe\">\n",
       "  <thead>\n",
       "    <tr style=\"text-align: right;\">\n",
       "      <th></th>\n",
       "      <th>CPI Simple Net Return</th>\n",
       "      <th>CPI Log Returns</th>\n",
       "    </tr>\n",
       "    <tr>\n",
       "      <th>DATE</th>\n",
       "      <th></th>\n",
       "      <th></th>\n",
       "    </tr>\n",
       "  </thead>\n",
       "  <tbody>\n",
       "    <tr>\n",
       "      <th>1947-01-01</th>\n",
       "      <td>NaN</td>\n",
       "      <td>NaN</td>\n",
       "    </tr>\n",
       "    <tr>\n",
       "      <th>1947-02-01</th>\n",
       "      <td>0.006518</td>\n",
       "      <td>0.006497</td>\n",
       "    </tr>\n",
       "    <tr>\n",
       "      <th>1947-03-01</th>\n",
       "      <td>0.017576</td>\n",
       "      <td>0.017424</td>\n",
       "    </tr>\n",
       "    <tr>\n",
       "      <th>1947-04-01</th>\n",
       "      <td>0.000000</td>\n",
       "      <td>0.000000</td>\n",
       "    </tr>\n",
       "    <tr>\n",
       "      <th>1947-05-01</th>\n",
       "      <td>-0.002273</td>\n",
       "      <td>-0.002275</td>\n",
       "    </tr>\n",
       "    <tr>\n",
       "      <th>...</th>\n",
       "      <td>...</td>\n",
       "      <td>...</td>\n",
       "    </tr>\n",
       "    <tr>\n",
       "      <th>2021-04-01</th>\n",
       "      <td>0.007700</td>\n",
       "      <td>0.007671</td>\n",
       "    </tr>\n",
       "    <tr>\n",
       "      <th>2021-05-01</th>\n",
       "      <td>0.006442</td>\n",
       "      <td>0.006422</td>\n",
       "    </tr>\n",
       "    <tr>\n",
       "      <th>2021-06-01</th>\n",
       "      <td>0.009049</td>\n",
       "      <td>0.009008</td>\n",
       "    </tr>\n",
       "    <tr>\n",
       "      <th>2021-07-01</th>\n",
       "      <td>0.004738</td>\n",
       "      <td>0.004727</td>\n",
       "    </tr>\n",
       "    <tr>\n",
       "      <th>2021-08-01</th>\n",
       "      <td>0.002744</td>\n",
       "      <td>0.002740</td>\n",
       "    </tr>\n",
       "  </tbody>\n",
       "</table>\n",
       "<p>896 rows × 2 columns</p>\n",
       "</div>"
      ],
      "text/plain": [
       "            CPI Simple Net Return  CPI Log Returns\n",
       "DATE                                              \n",
       "1947-01-01                    NaN              NaN\n",
       "1947-02-01               0.006518         0.006497\n",
       "1947-03-01               0.017576         0.017424\n",
       "1947-04-01               0.000000         0.000000\n",
       "1947-05-01              -0.002273        -0.002275\n",
       "...                           ...              ...\n",
       "2021-04-01               0.007700         0.007671\n",
       "2021-05-01               0.006442         0.006422\n",
       "2021-06-01               0.009049         0.009008\n",
       "2021-07-01               0.004738         0.004727\n",
       "2021-08-01               0.002744         0.002740\n",
       "\n",
       "[896 rows x 2 columns]"
      ]
     },
     "execution_count": 21,
     "metadata": {},
     "output_type": "execute_result"
    }
   ],
   "source": [
    "# calculate the log return series of the CPI raw data\n",
    "CPI_return = CPI_data.pct_change()\n",
    "CPI_return = CPI_return.rename(columns={\"Consumer Price Index (monthly)\":\"CPI Simple Net Return\"})\n",
    "CPI_return[\"CPI Log Returns\"] = np.log(CPI_return[\"CPI Simple Net Return\"] + 1)\n",
    "CPI_return"
   ]
  },
  {
   "cell_type": "code",
   "execution_count": 22,
   "id": "ea29a218",
   "metadata": {
    "scrolled": true
   },
   "outputs": [
    {
     "data": {
      "image/png": "[encoded data removed]",
      "text/plain": [
       "<Figure size 864x360 with 1 Axes>"
      ]
     },
     "metadata": {},
     "output_type": "display_data"
    }
   ],
   "source": [
    "# plot the CPI return series\n",
    "ax = CPI_return[\"CPI Log Returns\"][1:].plot(figsize=(12,5),fontsize=12,linewidth=1)\n",
    "ax.set_xlabel('Date', fontsize=16)\n",
    "ax.set_ylabel('Log Return', fontsize=16)\n",
    "ax.set_title('Consumer Price Index Log Return', fontsize=16);"
   ]
  },
  {
   "cell_type": "markdown",
   "id": "08e7c5cb",
   "metadata": {},
   "source": [
    "### Step 2: Test for normality"
   ]
  },
  {
   "cell_type": "code",
   "execution_count": 23,
   "id": "d6cbd93c",
   "metadata": {},
   "outputs": [
    {
     "data": {
      "image/png": "[encoded data removed]",
      "text/plain": [
       "<Figure size 432x288 with 1 Axes>"
      ]
     },
     "metadata": {},
     "output_type": "display_data"
    }
   ],
   "source": [
    "# plot the CPI log return emperical distribution and kde estimate\n",
    "sns.distplot(CPI_return[\"CPI Log Returns\"][1:]);"
   ]
  },
  {
   "cell_type": "code",
   "execution_count": 24,
   "id": "7a394905",
   "metadata": {
    "scrolled": true
   },
   "outputs": [
    {
     "data": {
      "image/png": "[encoded data removed]",
      "text/plain": [
       "<Figure size 432x288 with 1 Axes>"
      ]
     },
     "metadata": {},
     "output_type": "display_data"
    }
   ],
   "source": [
    "# plot the QQ-plot of the CPI log return series\n",
    "fig = sm.qqplot(CPI_return[\"CPI Log Returns\"][1:]);\n",
    "plt.show();"
   ]
  },
  {
   "cell_type": "markdown",
   "id": "a21649bc",
   "metadata": {},
   "source": [
    "#### 1. Jarque-Bera test"
   ]
  },
  {
   "cell_type": "code",
   "execution_count": 25,
   "id": "7c73165e",
   "metadata": {},
   "outputs": [
    {
     "data": {
      "text/plain": [
       "Jarque_beraResult(statistic=678.9685929582004, pvalue=0.0)"
      ]
     },
     "execution_count": 25,
     "metadata": {},
     "output_type": "execute_result"
    }
   ],
   "source": [
    "jarque_bera_test = stats.jarque_bera(CPI_return[\"CPI Log Returns\"][1:])\n",
    "jarque_bera_test"
   ]
  },
  {
   "cell_type": "markdown",
   "id": "4eb32efb",
   "metadata": {},
   "source": [
    "The Jarque-Bera test results (i.e., small p-value) indicated that we should reject the null hypothesis that the CPI log return time series has the skewness and kurtosis matching a normal distribution."
   ]
  },
  {
   "cell_type": "markdown",
   "id": "3cfdd0aa",
   "metadata": {},
   "source": [
    "### Step 3: Test the random walk hypothesis\n",
    "\n",
    "#### 1. Autocorrelation Coefficients test"
   ]
  },
  {
   "cell_type": "code",
   "execution_count": 26,
   "id": "e83c564c",
   "metadata": {},
   "outputs": [
    {
     "data": {
      "image/png": "[encoded data removed]",
      "text/plain": [
       "<Figure size 432x288 with 1 Axes>"
      ]
     },
     "metadata": {},
     "output_type": "display_data"
    }
   ],
   "source": [
    "plot_acf(CPI_return['CPI Log Returns'][1:], alpha=0.05, lags=20)\n",
    "plt.show()"
   ]
  },
  {
   "cell_type": "markdown",
   "id": "4add329d",
   "metadata": {},
   "source": [
    "The ACF plot indicates that the autocorrelation coefficients for the CPI log return time series are quite significant, thus the CPI log return time series is nonstationry and could be a random walk process.\n",
    "\n",
    "#### 2. Portmanteau test"
   ]
  },
  {
   "cell_type": "code",
   "execution_count": 27,
   "id": "d2f6bdbb",
   "metadata": {
    "scrolled": true
   },
   "outputs": [
    {
     "data": {
      "text/html": [
       "<div>\n",
       "<style scoped>\n",
       "    .dataframe tbody tr th:only-of-type {\n",
       "        vertical-align: middle;\n",
       "    }\n",
       "\n",
       "    .dataframe tbody tr th {\n",
       "        vertical-align: top;\n",
       "    }\n",
       "\n",
       "    .dataframe thead th {\n",
       "        text-align: right;\n",
       "    }\n",
       "</style>\n",
       "<table border=\"1\" class=\"dataframe\">\n",
       "  <thead>\n",
       "    <tr style=\"text-align: right;\">\n",
       "      <th></th>\n",
       "      <th>lb_stat</th>\n",
       "      <th>lb_pvalue</th>\n",
       "    </tr>\n",
       "  </thead>\n",
       "  <tbody>\n",
       "    <tr>\n",
       "      <th>1</th>\n",
       "      <td>299.343244</td>\n",
       "      <td>4.579909e-67</td>\n",
       "    </tr>\n",
       "    <tr>\n",
       "      <th>2</th>\n",
       "      <td>450.002039</td>\n",
       "      <td>1.919989e-98</td>\n",
       "    </tr>\n",
       "    <tr>\n",
       "      <th>3</th>\n",
       "      <td>575.573889</td>\n",
       "      <td>1.988206e-124</td>\n",
       "    </tr>\n",
       "    <tr>\n",
       "      <th>4</th>\n",
       "      <td>688.261312</td>\n",
       "      <td>1.213217e-147</td>\n",
       "    </tr>\n",
       "    <tr>\n",
       "      <th>5</th>\n",
       "      <td>796.023726</td>\n",
       "      <td>8.384702e-170</td>\n",
       "    </tr>\n",
       "    <tr>\n",
       "      <th>6</th>\n",
       "      <td>901.353876</td>\n",
       "      <td>1.914788e-191</td>\n",
       "    </tr>\n",
       "    <tr>\n",
       "      <th>7</th>\n",
       "      <td>1010.625113</td>\n",
       "      <td>6.095634e-214</td>\n",
       "    </tr>\n",
       "    <tr>\n",
       "      <th>8</th>\n",
       "      <td>1114.455941</td>\n",
       "      <td>2.892378e-235</td>\n",
       "    </tr>\n",
       "    <tr>\n",
       "      <th>9</th>\n",
       "      <td>1239.128374</td>\n",
       "      <td>4.323213e-261</td>\n",
       "    </tr>\n",
       "    <tr>\n",
       "      <th>10</th>\n",
       "      <td>1373.300881</td>\n",
       "      <td>5.764582e-289</td>\n",
       "    </tr>\n",
       "    <tr>\n",
       "      <th>11</th>\n",
       "      <td>1464.044398</td>\n",
       "      <td>1.823790e-307</td>\n",
       "    </tr>\n",
       "    <tr>\n",
       "      <th>12</th>\n",
       "      <td>1490.912855</td>\n",
       "      <td>0.000000e+00</td>\n",
       "    </tr>\n",
       "    <tr>\n",
       "      <th>13</th>\n",
       "      <td>1521.911016</td>\n",
       "      <td>0.000000e+00</td>\n",
       "    </tr>\n",
       "    <tr>\n",
       "      <th>14</th>\n",
       "      <td>1557.080849</td>\n",
       "      <td>0.000000e+00</td>\n",
       "    </tr>\n",
       "    <tr>\n",
       "      <th>15</th>\n",
       "      <td>1614.930146</td>\n",
       "      <td>0.000000e+00</td>\n",
       "    </tr>\n",
       "    <tr>\n",
       "      <th>16</th>\n",
       "      <td>1679.732042</td>\n",
       "      <td>0.000000e+00</td>\n",
       "    </tr>\n",
       "    <tr>\n",
       "      <th>17</th>\n",
       "      <td>1729.132512</td>\n",
       "      <td>0.000000e+00</td>\n",
       "    </tr>\n",
       "    <tr>\n",
       "      <th>18</th>\n",
       "      <td>1769.086273</td>\n",
       "      <td>0.000000e+00</td>\n",
       "    </tr>\n",
       "    <tr>\n",
       "      <th>19</th>\n",
       "      <td>1801.170463</td>\n",
       "      <td>0.000000e+00</td>\n",
       "    </tr>\n",
       "    <tr>\n",
       "      <th>20</th>\n",
       "      <td>1832.499410</td>\n",
       "      <td>0.000000e+00</td>\n",
       "    </tr>\n",
       "  </tbody>\n",
       "</table>\n",
       "</div>"
      ],
      "text/plain": [
       "        lb_stat      lb_pvalue\n",
       "1    299.343244   4.579909e-67\n",
       "2    450.002039   1.919989e-98\n",
       "3    575.573889  1.988206e-124\n",
       "4    688.261312  1.213217e-147\n",
       "5    796.023726  8.384702e-170\n",
       "6    901.353876  1.914788e-191\n",
       "7   1010.625113  6.095634e-214\n",
       "8   1114.455941  2.892378e-235\n",
       "9   1239.128374  4.323213e-261\n",
       "10  1373.300881  5.764582e-289\n",
       "11  1464.044398  1.823790e-307\n",
       "12  1490.912855   0.000000e+00\n",
       "13  1521.911016   0.000000e+00\n",
       "14  1557.080849   0.000000e+00\n",
       "15  1614.930146   0.000000e+00\n",
       "16  1679.732042   0.000000e+00\n",
       "17  1729.132512   0.000000e+00\n",
       "18  1769.086273   0.000000e+00\n",
       "19  1801.170463   0.000000e+00\n",
       "20  1832.499410   0.000000e+00"
      ]
     },
     "execution_count": 27,
     "metadata": {},
     "output_type": "execute_result"
    }
   ],
   "source": [
    "result = acorr_ljungbox(CPI_return['CPI Log Returns'][1:],lags = 20,return_df=True)\n",
    "result"
   ]
  },
  {
   "cell_type": "markdown",
   "id": "0b8319b0",
   "metadata": {},
   "source": [
    "The null hypothesis of the Portmanteau test is that all the autocorrelation coefficients are zero. Considering a 5% confidence level, it is clear that we can reject this null hypothesis for the first 20 lags. This Portmanteau test result also agrees with the ACF plot indicating that this CPI return time series has significant serial correlations. Thus, we cannot reject the hypothesis that this CPI return series is a random walk."
   ]
  },
  {
   "cell_type": "markdown",
   "id": "5b19b508",
   "metadata": {},
   "source": [
    "#### 3. Variance Ratio Test\n",
    "\n",
    "Variance ratio tests are not usually used as unit root tests, and are instead used for testing whether a financial return series is a pure random walk versus having some predictability."
   ]
  },
  {
   "cell_type": "code",
   "execution_count": 28,
   "id": "9975794d",
   "metadata": {},
   "outputs": [
    {
     "data": {
      "text/html": [
       "<table class=\"simpletable\">\n",
       "<caption>Variance-Ratio Test Results</caption>\n",
       "<tr>\n",
       "  <td>Test Statistic</td>    <td>-3.561</td>\n",
       "</tr>\n",
       "<tr>\n",
       "  <td>P-value</td>            <td>0.000</td>\n",
       "</tr>\n",
       "<tr>\n",
       "  <td>Lags</td>                  <td>20</td>\n",
       "</tr>\n",
       "</table><br/><br/>Computed with overlapping blocks (de-biased)"
      ],
      "text/plain": [
       "<class 'statsmodels.iolib.summary.Summary'>\n",
       "\"\"\"\n",
       "     Variance-Ratio Test Results     \n",
       "=====================================\n",
       "Test Statistic                 -3.561\n",
       "P-value                         0.000\n",
       "Lags                               20\n",
       "-------------------------------------\n",
       "\n",
       "Computed with overlapping blocks (de-biased)\n",
       "\"\"\""
      ]
     },
     "execution_count": 28,
     "metadata": {},
     "output_type": "execute_result"
    }
   ],
   "source": [
    "vr = VarianceRatio(CPI_return['CPI Log Returns'][1:],20)\n",
    "vr.summary()"
   ]
  },
  {
   "cell_type": "markdown",
   "id": "d82b4b0b",
   "metadata": {},
   "source": [
    "The variance ratio test result indicated that we should reject the null hypothesis that the CPI return time sereis is a pure random walk."
   ]
  },
  {
   "cell_type": "markdown",
   "id": "76d01a2f",
   "metadata": {},
   "source": [
    "#### 4. Unito Root Test Augmented Dickey-Fuller (ADF) Test"
   ]
  },
  {
   "cell_type": "code",
   "execution_count": 29,
   "id": "d5d2de68",
   "metadata": {},
   "outputs": [
    {
     "name": "stdout",
     "output_type": "stream",
     "text": [
      "ADF Statistic: -4.430737\n",
      "p-value is 0.00026178112602147027\n",
      "Critical Values:\n",
      "\t1%: -3.438\n",
      "\t5%: -2.865\n",
      "\t10%: -2.569\n"
     ]
    }
   ],
   "source": [
    "results = adfuller(CPI_return['CPI Log Returns'][1:])\n",
    "print('ADF Statistic: %f' % results[0])\n",
    "print('p-value is', results[1])\n",
    "print('Critical Values:')\n",
    "for key, value in results[4].items():\n",
    "    print('\\t%s: %.3f' % (key,value))"
   ]
  },
  {
   "cell_type": "markdown",
   "id": "eb169229",
   "metadata": {},
   "source": [
    "Based on the result above, we can see that the ADF test statistic is smaller than all the critical values at 1%, 5% and 10% and the p-value is also very small. This suggests that we can reject the null hypothesis (there is unit root) at all these confidence levels. "
   ]
  },
  {
   "cell_type": "markdown",
   "id": "49823994",
   "metadata": {},
   "source": [
    "## 1.2.3 Unemployment Rate\n",
    "\n",
    "The data was downloaded from https://fred.stlouisfed.org/. \n",
    "The purpose of this exercise is to test for normality of the unemployment rate time series. Then to test the random walk hypothesis using: autocorrelation coefficients test, Portmanteau test, variance ratios and the unit root test Augmented Dickey-Fuller (ADF). For ADF, we need to consider test levels of 1%, 5% and 10%.\n",
    "\n",
    "### Step 1: Data Loading and Pre-Processing"
   ]
  },
  {
   "cell_type": "code",
   "execution_count": 30,
   "id": "1c5698e3",
   "metadata": {},
   "outputs": [
    {
     "data": {
      "text/html": [
       "<div>\n",
       "<style scoped>\n",
       "    .dataframe tbody tr th:only-of-type {\n",
       "        vertical-align: middle;\n",
       "    }\n",
       "\n",
       "    .dataframe tbody tr th {\n",
       "        vertical-align: top;\n",
       "    }\n",
       "\n",
       "    .dataframe thead th {\n",
       "        text-align: right;\n",
       "    }\n",
       "</style>\n",
       "<table border=\"1\" class=\"dataframe\">\n",
       "  <thead>\n",
       "    <tr style=\"text-align: right;\">\n",
       "      <th></th>\n",
       "      <th>Unemployment Rate</th>\n",
       "    </tr>\n",
       "    <tr>\n",
       "      <th>DATE</th>\n",
       "      <th></th>\n",
       "    </tr>\n",
       "  </thead>\n",
       "  <tbody>\n",
       "    <tr>\n",
       "      <th>1948-01-01</th>\n",
       "      <td>3.4</td>\n",
       "    </tr>\n",
       "    <tr>\n",
       "      <th>1948-02-01</th>\n",
       "      <td>3.8</td>\n",
       "    </tr>\n",
       "    <tr>\n",
       "      <th>1948-03-01</th>\n",
       "      <td>4.0</td>\n",
       "    </tr>\n",
       "    <tr>\n",
       "      <th>1948-04-01</th>\n",
       "      <td>3.9</td>\n",
       "    </tr>\n",
       "    <tr>\n",
       "      <th>1948-05-01</th>\n",
       "      <td>3.5</td>\n",
       "    </tr>\n",
       "    <tr>\n",
       "      <th>...</th>\n",
       "      <td>...</td>\n",
       "    </tr>\n",
       "    <tr>\n",
       "      <th>2021-04-01</th>\n",
       "      <td>6.1</td>\n",
       "    </tr>\n",
       "    <tr>\n",
       "      <th>2021-05-01</th>\n",
       "      <td>5.8</td>\n",
       "    </tr>\n",
       "    <tr>\n",
       "      <th>2021-06-01</th>\n",
       "      <td>5.9</td>\n",
       "    </tr>\n",
       "    <tr>\n",
       "      <th>2021-07-01</th>\n",
       "      <td>5.4</td>\n",
       "    </tr>\n",
       "    <tr>\n",
       "      <th>2021-08-01</th>\n",
       "      <td>5.2</td>\n",
       "    </tr>\n",
       "  </tbody>\n",
       "</table>\n",
       "<p>884 rows × 1 columns</p>\n",
       "</div>"
      ],
      "text/plain": [
       "            Unemployment Rate\n",
       "DATE                         \n",
       "1948-01-01                3.4\n",
       "1948-02-01                3.8\n",
       "1948-03-01                4.0\n",
       "1948-04-01                3.9\n",
       "1948-05-01                3.5\n",
       "...                       ...\n",
       "2021-04-01                6.1\n",
       "2021-05-01                5.8\n",
       "2021-06-01                5.9\n",
       "2021-07-01                5.4\n",
       "2021-08-01                5.2\n",
       "\n",
       "[884 rows x 1 columns]"
      ]
     },
     "execution_count": 30,
     "metadata": {},
     "output_type": "execute_result"
    }
   ],
   "source": [
    "#read the data and set the DATE column as index\n",
    "UN_data = pd.read_csv(\"UNRATE.csv\",parse_dates=[\"DATE\"])\n",
    "UN_data.DATE = pd.to_datetime(UN_data.DATE)\n",
    "UN_data.set_index(\"DATE\",inplace=True)\n",
    "UN_data = UN_data.rename(columns={\"UNRATE\":\"Unemployment Rate\"})\n",
    "UN_data"
   ]
  },
  {
   "cell_type": "code",
   "execution_count": 31,
   "id": "e4db9dc6",
   "metadata": {
    "scrolled": true
   },
   "outputs": [
    {
     "name": "stdout",
     "output_type": "stream",
     "text": [
      "<class 'pandas.core.frame.DataFrame'>\n",
      "DatetimeIndex: 884 entries, 1948-01-01 to 2021-08-01\n",
      "Data columns (total 1 columns):\n",
      " #   Column             Non-Null Count  Dtype  \n",
      "---  ------             --------------  -----  \n",
      " 0   Unemployment Rate  884 non-null    float64\n",
      "dtypes: float64(1)\n",
      "memory usage: 13.8 KB\n"
     ]
    }
   ],
   "source": [
    "UN_data.info()"
   ]
  },
  {
   "cell_type": "code",
   "execution_count": 32,
   "id": "8ea8fc24",
   "metadata": {
    "scrolled": true
   },
   "outputs": [
    {
     "data": {
      "image/png": "[encoded data removed]",
      "text/plain": [
       "<Figure size 864x360 with 1 Axes>"
      ]
     },
     "metadata": {},
     "output_type": "display_data"
    }
   ],
   "source": [
    "# plot the unemployment rate time series\n",
    "plt.style.use('seaborn-dark-palette')\n",
    "ax = UN_data.plot(figsize=(12,5), fontsize=12, linewidth=3);\n",
    "ax.set_xlabel('Date', fontsize=16)\n",
    "ax.set_ylabel('Unemployment Rate (monthly)', fontsize=16)\n",
    "ax.set_title('Unemployment Rate', fontsize=16)\n",
    "plt.tight_layout();"
   ]
  },
  {
   "cell_type": "markdown",
   "id": "b727f351",
   "metadata": {},
   "source": [
    "### Step 2: Test for normality"
   ]
  },
  {
   "cell_type": "code",
   "execution_count": 33,
   "id": "23879e2b",
   "metadata": {},
   "outputs": [
    {
     "data": {
      "image/png": "[encoded data removed]",
      "text/plain": [
       "<Figure size 432x288 with 1 Axes>"
      ]
     },
     "metadata": {},
     "output_type": "display_data"
    }
   ],
   "source": [
    "# plot the unemployment rate empirical distribution and kde estimate\n",
    "sns.distplot(UN_data[\"Unemployment Rate\"][1:]);"
   ]
  },
  {
   "cell_type": "code",
   "execution_count": 34,
   "id": "2ec7e193",
   "metadata": {},
   "outputs": [
    {
     "data": {
      "image/png": "[encoded data removed]",
      "text/plain": [
       "<Figure size 432x288 with 1 Axes>"
      ]
     },
     "metadata": {},
     "output_type": "display_data"
    }
   ],
   "source": [
    "# plot the QQ plot of the unemployment rate time series\n",
    "fig = sm.qqplot(UN_data[\"Unemployment Rate\"]);\n",
    "plt.show();"
   ]
  },
  {
   "cell_type": "markdown",
   "id": "ac8ccfc7",
   "metadata": {},
   "source": [
    "\n",
    "#### 1. Jarque-Bera test"
   ]
  },
  {
   "cell_type": "code",
   "execution_count": 35,
   "id": "fd50398c",
   "metadata": {},
   "outputs": [
    {
     "data": {
      "text/plain": [
       "Jarque_beraResult(statistic=149.3214955453599, pvalue=0.0)"
      ]
     },
     "execution_count": 35,
     "metadata": {},
     "output_type": "execute_result"
    }
   ],
   "source": [
    "jarque_bera_test = stats.jarque_bera(UN_data[\"Unemployment Rate\"])\n",
    "jarque_bera_test"
   ]
  },
  {
   "cell_type": "markdown",
   "id": "c4f8e00c",
   "metadata": {},
   "source": [
    "The Jarque-Bera test results (i.e., small p-value) indicated that we should reject the null hypothesis that the Unemployment Rate time series has the skewness and kurtosis matching a normal distribution."
   ]
  },
  {
   "cell_type": "markdown",
   "id": "11b30ce0",
   "metadata": {},
   "source": [
    "### Step 3: Test the random walk hypothesis\n",
    "\n",
    "#### 1. Autocorrelation Coefficients test"
   ]
  },
  {
   "cell_type": "code",
   "execution_count": 36,
   "id": "582d2440",
   "metadata": {},
   "outputs": [
    {
     "data": {
      "image/png": "[encoded data removed]",
      "text/plain": [
       "<Figure size 432x288 with 1 Axes>"
      ]
     },
     "metadata": {},
     "output_type": "display_data"
    }
   ],
   "source": [
    "plot_acf(UN_data[\"Unemployment Rate\"], alpha=0.05, lags=20)\n",
    "plt.show()"
   ]
  },
  {
   "cell_type": "markdown",
   "id": "0f62b988",
   "metadata": {},
   "source": [
    "The ACF plot indicates that the autocorrelation coefficients for the unemployment rate time series are quite significant, thus we cannot reject the hypothesis that the unemployment rate time series is a random walk.\n",
    "\n",
    "#### 2. Portmanteau test"
   ]
  },
  {
   "cell_type": "code",
   "execution_count": 37,
   "id": "749487b6",
   "metadata": {
    "scrolled": true
   },
   "outputs": [
    {
     "data": {
      "text/html": [
       "<div>\n",
       "<style scoped>\n",
       "    .dataframe tbody tr th:only-of-type {\n",
       "        vertical-align: middle;\n",
       "    }\n",
       "\n",
       "    .dataframe tbody tr th {\n",
       "        vertical-align: top;\n",
       "    }\n",
       "\n",
       "    .dataframe thead th {\n",
       "        text-align: right;\n",
       "    }\n",
       "</style>\n",
       "<table border=\"1\" class=\"dataframe\">\n",
       "  <thead>\n",
       "    <tr style=\"text-align: right;\">\n",
       "      <th></th>\n",
       "      <th>lb_stat</th>\n",
       "      <th>lb_pvalue</th>\n",
       "    </tr>\n",
       "  </thead>\n",
       "  <tbody>\n",
       "    <tr>\n",
       "      <th>1</th>\n",
       "      <td>830.471416</td>\n",
       "      <td>1.279911e-182</td>\n",
       "    </tr>\n",
       "    <tr>\n",
       "      <th>2</th>\n",
       "      <td>1603.483451</td>\n",
       "      <td>0.000000e+00</td>\n",
       "    </tr>\n",
       "    <tr>\n",
       "      <th>3</th>\n",
       "      <td>2325.122217</td>\n",
       "      <td>0.000000e+00</td>\n",
       "    </tr>\n",
       "    <tr>\n",
       "      <th>4</th>\n",
       "      <td>2996.254309</td>\n",
       "      <td>0.000000e+00</td>\n",
       "    </tr>\n",
       "    <tr>\n",
       "      <th>5</th>\n",
       "      <td>3623.451826</td>\n",
       "      <td>0.000000e+00</td>\n",
       "    </tr>\n",
       "    <tr>\n",
       "      <th>6</th>\n",
       "      <td>4206.632387</td>\n",
       "      <td>0.000000e+00</td>\n",
       "    </tr>\n",
       "    <tr>\n",
       "      <th>7</th>\n",
       "      <td>4749.572232</td>\n",
       "      <td>0.000000e+00</td>\n",
       "    </tr>\n",
       "    <tr>\n",
       "      <th>8</th>\n",
       "      <td>5254.518302</td>\n",
       "      <td>0.000000e+00</td>\n",
       "    </tr>\n",
       "    <tr>\n",
       "      <th>9</th>\n",
       "      <td>5720.581890</td>\n",
       "      <td>0.000000e+00</td>\n",
       "    </tr>\n",
       "    <tr>\n",
       "      <th>10</th>\n",
       "      <td>6149.723093</td>\n",
       "      <td>0.000000e+00</td>\n",
       "    </tr>\n",
       "    <tr>\n",
       "      <th>11</th>\n",
       "      <td>6545.423353</td>\n",
       "      <td>0.000000e+00</td>\n",
       "    </tr>\n",
       "    <tr>\n",
       "      <th>12</th>\n",
       "      <td>6908.951400</td>\n",
       "      <td>0.000000e+00</td>\n",
       "    </tr>\n",
       "    <tr>\n",
       "      <th>13</th>\n",
       "      <td>7244.051939</td>\n",
       "      <td>0.000000e+00</td>\n",
       "    </tr>\n",
       "    <tr>\n",
       "      <th>14</th>\n",
       "      <td>7553.885400</td>\n",
       "      <td>0.000000e+00</td>\n",
       "    </tr>\n",
       "    <tr>\n",
       "      <th>15</th>\n",
       "      <td>7840.474465</td>\n",
       "      <td>0.000000e+00</td>\n",
       "    </tr>\n",
       "    <tr>\n",
       "      <th>16</th>\n",
       "      <td>8107.467799</td>\n",
       "      <td>0.000000e+00</td>\n",
       "    </tr>\n",
       "    <tr>\n",
       "      <th>17</th>\n",
       "      <td>8357.313908</td>\n",
       "      <td>0.000000e+00</td>\n",
       "    </tr>\n",
       "    <tr>\n",
       "      <th>18</th>\n",
       "      <td>8589.410082</td>\n",
       "      <td>0.000000e+00</td>\n",
       "    </tr>\n",
       "    <tr>\n",
       "      <th>19</th>\n",
       "      <td>8804.734731</td>\n",
       "      <td>0.000000e+00</td>\n",
       "    </tr>\n",
       "    <tr>\n",
       "      <th>20</th>\n",
       "      <td>9004.330893</td>\n",
       "      <td>0.000000e+00</td>\n",
       "    </tr>\n",
       "  </tbody>\n",
       "</table>\n",
       "</div>"
      ],
      "text/plain": [
       "        lb_stat      lb_pvalue\n",
       "1    830.471416  1.279911e-182\n",
       "2   1603.483451   0.000000e+00\n",
       "3   2325.122217   0.000000e+00\n",
       "4   2996.254309   0.000000e+00\n",
       "5   3623.451826   0.000000e+00\n",
       "6   4206.632387   0.000000e+00\n",
       "7   4749.572232   0.000000e+00\n",
       "8   5254.518302   0.000000e+00\n",
       "9   5720.581890   0.000000e+00\n",
       "10  6149.723093   0.000000e+00\n",
       "11  6545.423353   0.000000e+00\n",
       "12  6908.951400   0.000000e+00\n",
       "13  7244.051939   0.000000e+00\n",
       "14  7553.885400   0.000000e+00\n",
       "15  7840.474465   0.000000e+00\n",
       "16  8107.467799   0.000000e+00\n",
       "17  8357.313908   0.000000e+00\n",
       "18  8589.410082   0.000000e+00\n",
       "19  8804.734731   0.000000e+00\n",
       "20  9004.330893   0.000000e+00"
      ]
     },
     "execution_count": 37,
     "metadata": {},
     "output_type": "execute_result"
    }
   ],
   "source": [
    "result = acorr_ljungbox(UN_data[\"Unemployment Rate\"],lags = 20,return_df=True)\n",
    "result"
   ]
  },
  {
   "cell_type": "markdown",
   "id": "3d90e173",
   "metadata": {},
   "source": [
    "The null hypothesis of the Portmanteau test is that all the autocorrelation coefficients are zero. Considering a 5% confidence level, it is clear that we can reject this null hypothesis for the first 20 lags. This Portmanteau test result also agrees with the ACF plot indicating that this unemployment rate time series has significant serial correlations. Thus, we cannot reject the hypothesis that this unemployment rate time series is a random walk."
   ]
  },
  {
   "cell_type": "markdown",
   "id": "4b90882e",
   "metadata": {},
   "source": [
    "#### 3. Variance Ratio Test\n",
    "\n",
    "Variance ratio tests are not usually used as unit root tests, and are instead used for testing whether a financial return series is a pure random walk versus having some predictability."
   ]
  },
  {
   "cell_type": "code",
   "execution_count": 38,
   "id": "d4ce69c7",
   "metadata": {},
   "outputs": [
    {
     "data": {
      "text/html": [
       "<table class=\"simpletable\">\n",
       "<caption>Variance-Ratio Test Results</caption>\n",
       "<tr>\n",
       "  <td>Test Statistic</td>    <td>-0.470</td>\n",
       "</tr>\n",
       "<tr>\n",
       "  <td>P-value</td>            <td>0.638</td>\n",
       "</tr>\n",
       "<tr>\n",
       "  <td>Lags</td>                  <td>20</td>\n",
       "</tr>\n",
       "</table><br/><br/>Computed with overlapping blocks (de-biased)"
      ],
      "text/plain": [
       "<class 'statsmodels.iolib.summary.Summary'>\n",
       "\"\"\"\n",
       "     Variance-Ratio Test Results     \n",
       "=====================================\n",
       "Test Statistic                 -0.470\n",
       "P-value                         0.638\n",
       "Lags                               20\n",
       "-------------------------------------\n",
       "\n",
       "Computed with overlapping blocks (de-biased)\n",
       "\"\"\""
      ]
     },
     "execution_count": 38,
     "metadata": {},
     "output_type": "execute_result"
    }
   ],
   "source": [
    "vr = VarianceRatio(UN_data[\"Unemployment Rate\"],20)\n",
    "vr.summary()"
   ]
  },
  {
   "cell_type": "markdown",
   "id": "0125557c",
   "metadata": {},
   "source": [
    "The variance test result indicated that we should not reject the null hypothesis that the Unemployement Rate time sereis is a pure random walk."
   ]
  },
  {
   "cell_type": "markdown",
   "id": "46f36a9a",
   "metadata": {},
   "source": [
    "#### 4. Unito Root Test Augmented Dickey-Fuller (ADF) Test"
   ]
  },
  {
   "cell_type": "code",
   "execution_count": 39,
   "id": "7733d180",
   "metadata": {},
   "outputs": [
    {
     "name": "stdout",
     "output_type": "stream",
     "text": [
      "ADF Statistic: -4.009541\n",
      "p-value is 0.0013613692241531044\n",
      "Critical Values:\n",
      "\t1%: -3.438\n",
      "\t5%: -2.865\n",
      "\t10%: -2.569\n"
     ]
    }
   ],
   "source": [
    "results = adfuller(UN_data[\"Unemployment Rate\"])\n",
    "print('ADF Statistic: %f' % results[0])\n",
    "print('p-value is', results[1])\n",
    "print('Critical Values:')\n",
    "for key, value in results[4].items():\n",
    "    print('\\t%s: %.3f' % (key,value))"
   ]
  },
  {
   "cell_type": "markdown",
   "id": "0a39458d",
   "metadata": {},
   "source": [
    "Based on the result above, we can see that the ADF test statistic is smaller than all the critical values at 1%, 5% and 10%. This suggests that we can reject the null hypothesis (there is unit root) at all these confidence levels. "
   ]
  },
  {
   "cell_type": "markdown",
   "id": "13a80cd3",
   "metadata": {},
   "source": [
    "## 1.2.4 Federal Funds Rate\n",
    "\n",
    "The data was downloaded from https://fred.stlouisfed.org/. \n",
    "The purpose of this exercise is to test for normality of the Federal Funds Rate time series. Then to test the random walk hypothesis using: autocorrelation coefficients test, Portmanteau test, variance ratios and the unit root test Augmented Dickey-Fuller (ADF). For ADF, we need to consider test levels of 1%, 5% and 10%.\n",
    "\n",
    "### Step 1: Data Loading and Pre-Processing"
   ]
  },
  {
   "cell_type": "code",
   "execution_count": 40,
   "id": "a16d4677",
   "metadata": {},
   "outputs": [
    {
     "data": {
      "text/html": [
       "<div>\n",
       "<style scoped>\n",
       "    .dataframe tbody tr th:only-of-type {\n",
       "        vertical-align: middle;\n",
       "    }\n",
       "\n",
       "    .dataframe tbody tr th {\n",
       "        vertical-align: top;\n",
       "    }\n",
       "\n",
       "    .dataframe thead th {\n",
       "        text-align: right;\n",
       "    }\n",
       "</style>\n",
       "<table border=\"1\" class=\"dataframe\">\n",
       "  <thead>\n",
       "    <tr style=\"text-align: right;\">\n",
       "      <th></th>\n",
       "      <th>Federal Funds Rate</th>\n",
       "    </tr>\n",
       "    <tr>\n",
       "      <th>DATE</th>\n",
       "      <th></th>\n",
       "    </tr>\n",
       "  </thead>\n",
       "  <tbody>\n",
       "    <tr>\n",
       "      <th>1954-07-01</th>\n",
       "      <td>0.80</td>\n",
       "    </tr>\n",
       "    <tr>\n",
       "      <th>1954-08-01</th>\n",
       "      <td>1.22</td>\n",
       "    </tr>\n",
       "    <tr>\n",
       "      <th>1954-09-01</th>\n",
       "      <td>1.07</td>\n",
       "    </tr>\n",
       "    <tr>\n",
       "      <th>1954-10-01</th>\n",
       "      <td>0.85</td>\n",
       "    </tr>\n",
       "    <tr>\n",
       "      <th>1954-11-01</th>\n",
       "      <td>0.83</td>\n",
       "    </tr>\n",
       "    <tr>\n",
       "      <th>...</th>\n",
       "      <td>...</td>\n",
       "    </tr>\n",
       "    <tr>\n",
       "      <th>2021-04-01</th>\n",
       "      <td>0.07</td>\n",
       "    </tr>\n",
       "    <tr>\n",
       "      <th>2021-05-01</th>\n",
       "      <td>0.06</td>\n",
       "    </tr>\n",
       "    <tr>\n",
       "      <th>2021-06-01</th>\n",
       "      <td>0.08</td>\n",
       "    </tr>\n",
       "    <tr>\n",
       "      <th>2021-07-01</th>\n",
       "      <td>0.10</td>\n",
       "    </tr>\n",
       "    <tr>\n",
       "      <th>2021-08-01</th>\n",
       "      <td>0.09</td>\n",
       "    </tr>\n",
       "  </tbody>\n",
       "</table>\n",
       "<p>806 rows × 1 columns</p>\n",
       "</div>"
      ],
      "text/plain": [
       "            Federal Funds Rate\n",
       "DATE                          \n",
       "1954-07-01                0.80\n",
       "1954-08-01                1.22\n",
       "1954-09-01                1.07\n",
       "1954-10-01                0.85\n",
       "1954-11-01                0.83\n",
       "...                        ...\n",
       "2021-04-01                0.07\n",
       "2021-05-01                0.06\n",
       "2021-06-01                0.08\n",
       "2021-07-01                0.10\n",
       "2021-08-01                0.09\n",
       "\n",
       "[806 rows x 1 columns]"
      ]
     },
     "execution_count": 40,
     "metadata": {},
     "output_type": "execute_result"
    }
   ],
   "source": [
    "#read the data and set the DATE column as index\n",
    "FFR_data = pd.read_csv(\"FEDFUNDS.csv\",parse_dates=[\"DATE\"])\n",
    "FFR_data.DATE = pd.to_datetime(FFR_data.DATE)\n",
    "FFR_data.set_index(\"DATE\",inplace=True)\n",
    "FFR_data = FFR_data.rename(columns={\"FEDFUNDS\":\"Federal Funds Rate\"})\n",
    "FFR_data"
   ]
  },
  {
   "cell_type": "code",
   "execution_count": 41,
   "id": "7cd4f2d7",
   "metadata": {
    "scrolled": true
   },
   "outputs": [
    {
     "name": "stdout",
     "output_type": "stream",
     "text": [
      "<class 'pandas.core.frame.DataFrame'>\n",
      "DatetimeIndex: 806 entries, 1954-07-01 to 2021-08-01\n",
      "Data columns (total 1 columns):\n",
      " #   Column              Non-Null Count  Dtype  \n",
      "---  ------              --------------  -----  \n",
      " 0   Federal Funds Rate  806 non-null    float64\n",
      "dtypes: float64(1)\n",
      "memory usage: 12.6 KB\n"
     ]
    }
   ],
   "source": [
    "FFR_data.info()"
   ]
  },
  {
   "cell_type": "code",
   "execution_count": 42,
   "id": "0af85749",
   "metadata": {
    "scrolled": true
   },
   "outputs": [
    {
     "data": {
      "image/png": "[encoded data removed]",
      "text/plain": [
       "<Figure size 864x360 with 1 Axes>"
      ]
     },
     "metadata": {},
     "output_type": "display_data"
    }
   ],
   "source": [
    "# plot the Federal Funds Rate time series\n",
    "plt.style.use('seaborn-notebook')\n",
    "ax = FFR_data.plot(figsize=(12,5), fontsize=12, linewidth=3);\n",
    "ax.set_xlabel('Date', fontsize=16)\n",
    "ax.set_ylabel('Federal Funds Rate (monthly)', fontsize=16)\n",
    "ax.set_title('Federal Funds Rate', fontsize=16)\n",
    "plt.tight_layout();"
   ]
  },
  {
   "cell_type": "markdown",
   "id": "5374d7f7",
   "metadata": {},
   "source": [
    "### Step 2: Test for normality"
   ]
  },
  {
   "cell_type": "code",
   "execution_count": 43,
   "id": "5f0ecd4f",
   "metadata": {},
   "outputs": [
    {
     "data": {
      "image/png": "[encoded data removed]",
      "text/plain": [
       "<Figure size 576x396 with 1 Axes>"
      ]
     },
     "metadata": {},
     "output_type": "display_data"
    }
   ],
   "source": [
    "# plot the empirical distribution of the Federal Funds Rate and kde estimate\n",
    "sns.distplot(FFR_data[\"Federal Funds Rate\"]);"
   ]
  },
  {
   "cell_type": "code",
   "execution_count": 44,
   "id": "d1d198ec",
   "metadata": {},
   "outputs": [
    {
     "data": {
      "image/png": "[encoded data removed]",
      "text/plain": [
       "<Figure size 576x396 with 1 Axes>"
      ]
     },
     "metadata": {},
     "output_type": "display_data"
    }
   ],
   "source": [
    "# plot the QQ-plot of the Federal Funds Rate time series data\n",
    "fig = sm.qqplot(FFR_data[\"Federal Funds Rate\"]);\n",
    "plt.show();"
   ]
  },
  {
   "cell_type": "markdown",
   "id": "1be0f6c1",
   "metadata": {},
   "source": [
    "#### 1. Jarque-Bera test"
   ]
  },
  {
   "cell_type": "code",
   "execution_count": 45,
   "id": "58e34392",
   "metadata": {},
   "outputs": [
    {
     "data": {
      "text/plain": [
       "Jarque_beraResult(statistic=224.8444348161465, pvalue=0.0)"
      ]
     },
     "execution_count": 45,
     "metadata": {},
     "output_type": "execute_result"
    }
   ],
   "source": [
    "jarque_bera_test = stats.jarque_bera(FFR_data[\"Federal Funds Rate\"])\n",
    "jarque_bera_test"
   ]
  },
  {
   "cell_type": "markdown",
   "id": "41a1fb47",
   "metadata": {},
   "source": [
    "The Jarque-Bera test results (i.e., small p-value) indicated that we should reject the null hypothesis that the Federal Funds Rate time series has the skewness and kurtosis matching a normal distribution."
   ]
  },
  {
   "cell_type": "markdown",
   "id": "07495f7a",
   "metadata": {},
   "source": [
    "### Step 3: Test the random walk hypothesis\n",
    "\n",
    "#### 1. Autocorrelation Coefficients test"
   ]
  },
  {
   "cell_type": "code",
   "execution_count": 46,
   "id": "bb6e0b5a",
   "metadata": {},
   "outputs": [
    {
     "data": {
      "image/png": "[encoded data removed]",
      "text/plain": [
       "<Figure size 576x396 with 1 Axes>"
      ]
     },
     "metadata": {},
     "output_type": "display_data"
    }
   ],
   "source": [
    "plot_acf(FFR_data[\"Federal Funds Rate\"], alpha=0.05, lags=20)\n",
    "plt.show()"
   ]
  },
  {
   "cell_type": "markdown",
   "id": "01616837",
   "metadata": {},
   "source": [
    "The ACF plot indicates that the autocorrelation coefficients for the unemployment rate time series are quite significant, thus we cannot reject the hypothesis that the Federal Funds Rate time series is a random walk.\n",
    "\n",
    "#### 2. Portmanteau test"
   ]
  },
  {
   "cell_type": "code",
   "execution_count": 47,
   "id": "850fd194",
   "metadata": {
    "scrolled": true
   },
   "outputs": [
    {
     "data": {
      "text/html": [
       "<div>\n",
       "<style scoped>\n",
       "    .dataframe tbody tr th:only-of-type {\n",
       "        vertical-align: middle;\n",
       "    }\n",
       "\n",
       "    .dataframe tbody tr th {\n",
       "        vertical-align: top;\n",
       "    }\n",
       "\n",
       "    .dataframe thead th {\n",
       "        text-align: right;\n",
       "    }\n",
       "</style>\n",
       "<table border=\"1\" class=\"dataframe\">\n",
       "  <thead>\n",
       "    <tr style=\"text-align: right;\">\n",
       "      <th></th>\n",
       "      <th>lb_stat</th>\n",
       "      <th>lb_pvalue</th>\n",
       "    </tr>\n",
       "  </thead>\n",
       "  <tbody>\n",
       "    <tr>\n",
       "      <th>1</th>\n",
       "      <td>791.335857</td>\n",
       "      <td>4.128711e-174</td>\n",
       "    </tr>\n",
       "    <tr>\n",
       "      <th>2</th>\n",
       "      <td>1555.216273</td>\n",
       "      <td>0.000000e+00</td>\n",
       "    </tr>\n",
       "    <tr>\n",
       "      <th>3</th>\n",
       "      <td>2291.646360</td>\n",
       "      <td>0.000000e+00</td>\n",
       "    </tr>\n",
       "    <tr>\n",
       "      <th>4</th>\n",
       "      <td>3003.088285</td>\n",
       "      <td>0.000000e+00</td>\n",
       "    </tr>\n",
       "    <tr>\n",
       "      <th>5</th>\n",
       "      <td>3693.187018</td>\n",
       "      <td>0.000000e+00</td>\n",
       "    </tr>\n",
       "    <tr>\n",
       "      <th>6</th>\n",
       "      <td>4364.395751</td>\n",
       "      <td>0.000000e+00</td>\n",
       "    </tr>\n",
       "    <tr>\n",
       "      <th>7</th>\n",
       "      <td>5018.419724</td>\n",
       "      <td>0.000000e+00</td>\n",
       "    </tr>\n",
       "    <tr>\n",
       "      <th>8</th>\n",
       "      <td>5657.785819</td>\n",
       "      <td>0.000000e+00</td>\n",
       "    </tr>\n",
       "    <tr>\n",
       "      <th>9</th>\n",
       "      <td>6279.716325</td>\n",
       "      <td>0.000000e+00</td>\n",
       "    </tr>\n",
       "    <tr>\n",
       "      <th>10</th>\n",
       "      <td>6878.952657</td>\n",
       "      <td>0.000000e+00</td>\n",
       "    </tr>\n",
       "    <tr>\n",
       "      <th>11</th>\n",
       "      <td>7454.594544</td>\n",
       "      <td>0.000000e+00</td>\n",
       "    </tr>\n",
       "    <tr>\n",
       "      <th>12</th>\n",
       "      <td>8009.969357</td>\n",
       "      <td>0.000000e+00</td>\n",
       "    </tr>\n",
       "    <tr>\n",
       "      <th>13</th>\n",
       "      <td>8548.716310</td>\n",
       "      <td>0.000000e+00</td>\n",
       "    </tr>\n",
       "    <tr>\n",
       "      <th>14</th>\n",
       "      <td>9070.251226</td>\n",
       "      <td>0.000000e+00</td>\n",
       "    </tr>\n",
       "    <tr>\n",
       "      <th>15</th>\n",
       "      <td>9572.429685</td>\n",
       "      <td>0.000000e+00</td>\n",
       "    </tr>\n",
       "    <tr>\n",
       "      <th>16</th>\n",
       "      <td>10053.456636</td>\n",
       "      <td>0.000000e+00</td>\n",
       "    </tr>\n",
       "    <tr>\n",
       "      <th>17</th>\n",
       "      <td>10511.711605</td>\n",
       "      <td>0.000000e+00</td>\n",
       "    </tr>\n",
       "    <tr>\n",
       "      <th>18</th>\n",
       "      <td>10947.392170</td>\n",
       "      <td>0.000000e+00</td>\n",
       "    </tr>\n",
       "    <tr>\n",
       "      <th>19</th>\n",
       "      <td>11361.840517</td>\n",
       "      <td>0.000000e+00</td>\n",
       "    </tr>\n",
       "    <tr>\n",
       "      <th>20</th>\n",
       "      <td>11757.606165</td>\n",
       "      <td>0.000000e+00</td>\n",
       "    </tr>\n",
       "  </tbody>\n",
       "</table>\n",
       "</div>"
      ],
      "text/plain": [
       "         lb_stat      lb_pvalue\n",
       "1     791.335857  4.128711e-174\n",
       "2    1555.216273   0.000000e+00\n",
       "3    2291.646360   0.000000e+00\n",
       "4    3003.088285   0.000000e+00\n",
       "5    3693.187018   0.000000e+00\n",
       "6    4364.395751   0.000000e+00\n",
       "7    5018.419724   0.000000e+00\n",
       "8    5657.785819   0.000000e+00\n",
       "9    6279.716325   0.000000e+00\n",
       "10   6878.952657   0.000000e+00\n",
       "11   7454.594544   0.000000e+00\n",
       "12   8009.969357   0.000000e+00\n",
       "13   8548.716310   0.000000e+00\n",
       "14   9070.251226   0.000000e+00\n",
       "15   9572.429685   0.000000e+00\n",
       "16  10053.456636   0.000000e+00\n",
       "17  10511.711605   0.000000e+00\n",
       "18  10947.392170   0.000000e+00\n",
       "19  11361.840517   0.000000e+00\n",
       "20  11757.606165   0.000000e+00"
      ]
     },
     "execution_count": 47,
     "metadata": {},
     "output_type": "execute_result"
    }
   ],
   "source": [
    "result = acorr_ljungbox(FFR_data[\"Federal Funds Rate\"],lags = 20,return_df=True)\n",
    "result"
   ]
  },
  {
   "cell_type": "markdown",
   "id": "b802f000",
   "metadata": {},
   "source": [
    "The null hypothesis of the Portmanteau test is that all the autocorrelation coefficients are zero. Considering a 5% confidence level, it is clear that we can reject this null hypothesis for the first 20 lags. This Portmanteau test result also agrees with the ACF plot indicating that this federal funds rate time series has significant serial correlations. Thus, we cannot reject the hypothesis that this unemployment rate time series is a random walk."
   ]
  },
  {
   "cell_type": "markdown",
   "id": "7e0a4977",
   "metadata": {},
   "source": [
    "#### 3. Variance Ratio Test\n",
    "\n",
    "Variance ratio tests are not usually used as unit root tests, and are instead used for testing whether a financial return series is a pure random walk versus having some predictability."
   ]
  },
  {
   "cell_type": "code",
   "execution_count": 48,
   "id": "c93993d4",
   "metadata": {},
   "outputs": [
    {
     "data": {
      "text/html": [
       "<table class=\"simpletable\">\n",
       "<caption>Variance-Ratio Test Results</caption>\n",
       "<tr>\n",
       "  <td>Test Statistic</td>     <td>1.142</td>\n",
       "</tr>\n",
       "<tr>\n",
       "  <td>P-value</td>            <td>0.253</td>\n",
       "</tr>\n",
       "<tr>\n",
       "  <td>Lags</td>                  <td>20</td>\n",
       "</tr>\n",
       "</table><br/><br/>Computed with overlapping blocks (de-biased)"
      ],
      "text/plain": [
       "<class 'statsmodels.iolib.summary.Summary'>\n",
       "\"\"\"\n",
       "     Variance-Ratio Test Results     \n",
       "=====================================\n",
       "Test Statistic                  1.142\n",
       "P-value                         0.253\n",
       "Lags                               20\n",
       "-------------------------------------\n",
       "\n",
       "Computed with overlapping blocks (de-biased)\n",
       "\"\"\""
      ]
     },
     "execution_count": 48,
     "metadata": {},
     "output_type": "execute_result"
    }
   ],
   "source": [
    "vr = VarianceRatio(FFR_data[\"Federal Funds Rate\"],20)\n",
    "vr.summary()"
   ]
  },
  {
   "cell_type": "markdown",
   "id": "97963637",
   "metadata": {},
   "source": [
    "The variance test result indicated that we should not reject the null hypothesis that the Federal Fund Rate time sereis is a pure random walk."
   ]
  },
  {
   "cell_type": "markdown",
   "id": "d0fb9dc1",
   "metadata": {},
   "source": [
    "#### 4. Unito Root Test Augmented Dickey-Fuller (ADF) Test"
   ]
  },
  {
   "cell_type": "code",
   "execution_count": 49,
   "id": "a74e7863",
   "metadata": {},
   "outputs": [
    {
     "name": "stdout",
     "output_type": "stream",
     "text": [
      "ADF Statistic: -2.668957\n",
      "p-value is 0.07956578947426962\n",
      "Critical Values:\n",
      "\t1%: -3.439\n",
      "\t5%: -2.865\n",
      "\t10%: -2.569\n"
     ]
    }
   ],
   "source": [
    "results = adfuller(FFR_data[\"Federal Funds Rate\"])\n",
    "print('ADF Statistic: %f' % results[0])\n",
    "print('p-value is', results[1])\n",
    "print('Critical Values:')\n",
    "for key, value in results[4].items():\n",
    "    print('\\t%s: %.3f' % (key,value))"
   ]
  },
  {
   "cell_type": "markdown",
   "id": "299d1e11",
   "metadata": {},
   "source": [
    "Based on the result above, we can see that the ADF test statistic is larger than the critical values at 1% and 5%, but smaller than the critical value at 10%. This suggests that we cannot reject the null hypothesis (there is unit root) at 1% and 5% confidence levels, but can reject the null hypothesis at 10% confidence level. "
   ]
  }
 ],
 "metadata": {
  "kernelspec": {
   "display_name": "Python 3",
   "language": "python",
   "name": "python3"
  },
  "language_info": {
   "codemirror_mode": {
    "name": "ipython",
    "version": 3
   },
   "file_extension": ".py",
   "mimetype": "text/x-python",
   "name": "python",
   "nbconvert_exporter": "python",
   "pygments_lexer": "ipython3",
   "version": "3.8.5"
  }
 },
 "nbformat": 4,
 "nbformat_minor": 5
}
